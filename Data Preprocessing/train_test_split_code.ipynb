{
 "cells": [
  {
   "cell_type": "code",
   "execution_count": null,
   "metadata": {
    "id": "a6ypu5KYBYdZ"
   },
   "outputs": [],
   "source": [
    "from pathlib import Path\n",
    "import json\n",
    "import pandas as pd\n",
    "from sklearn.model_selection import train_test_split\n",
    "from os import path\n",
    "from tqdm import tqdm "
   ]
  },
  {
   "cell_type": "code",
   "execution_count": null,
   "metadata": {
    "id": "0nwystpmCJzn"
   },
   "outputs": [],
   "source": [
    "districts = ['agra', 'aligarh', 'varanasi', 'lucknow', 'ghaziabad', 'ambedkar_nagar', 'bahraich', 'azamgarh',\n",
    "             'allahabad', 'balrampur', 'auraiya', 'barabanki', 'banda', 'bagpat', 'bhadohi', 'ballia', 'bijnor',\n",
    "             'basti', 'bareilly', 'bulandshahar', 'chitrakoot', 'deoria', 'budaun', 'etah', 'etawah', 'farrukhabad',\n",
    "             'faizabad', 'fatehpur', 'firozabad', 'gautam_buddha_nagar', 'ghazipur', 'hapur', 'gonda', 'hardoi',\n",
    "             'hamirpur_up', 'jaunpur', 'gorakhpur', 'jalaun', 'jyotiba_phule_nagar', 'jhansi', 'hathras', 'kanpur_dehat',\n",
    "             'kanpur_nagar', 'kannauj', 'kanshiramnagar', 'kheri', 'kaushambi', 'kushinagar', 'lalitpur', 'maharajganj',\n",
    "             'mainpuri', 'meerut', 'mahoba', 'mirzapur', 'mathura', 'moradabad', 'muzaffarnagar', 'pratapgarhdistrict', 'pilibhit',\n",
    "             'rampur', 'raebareli', 'mau', 'saharanpur', 'sant_kabir_nagar', 'shahjahanpur', 'shravasti', 'siddharthnagar', 'sitapur', 'unnao',\n",
    "             'sultanpur', 'sonbhadra']\n",
    "# districts = ['ghaziabad', 'agra', 'varanasi', 'aligarh', 'kanpurnagar', 'lucknow']\n",
    "assert len(districts) == 71\n",
    "def file(district):\n",
    "  return f\"../all_bail_cases_pickles/{district}/full_data_after_simple_NER_division.json\""
   ]
  },
  {
   "cell_type": "code",
   "execution_count": null,
   "metadata": {
    "id": "DpzXXHE64Kdt"
   },
   "outputs": [],
   "source": [
    "HOME_TT = \"pathTo/legal_train_test_data/combined\""
   ]
  },
  {
   "cell_type": "code",
   "execution_count": null,
   "metadata": {},
   "outputs": [],
   "source": [
    "!ls $HOME_TT"
   ]
  },
  {
   "cell_type": "code",
   "execution_count": null,
   "metadata": {},
   "outputs": [],
   "source": [
    "import pandas as pd"
   ]
  },
  {
   "cell_type": "code",
   "execution_count": null,
   "metadata": {},
   "outputs": [],
   "source": [
    "def file(district):\n",
    "  return f\"{HOME_TT}/{district}/full_data_after_simple_NER_division.json\""
   ]
  },
  {
   "cell_type": "code",
   "execution_count": null,
   "metadata": {},
   "outputs": [],
   "source": [
    "from tqdm import tqdm"
   ]
  },
  {
   "cell_type": "markdown",
   "metadata": {
    "id": "0Q1ks2To66sz"
   },
   "source": [
    "# SPLIT"
   ]
  },
  {
   "cell_type": "code",
   "execution_count": null,
   "metadata": {
    "colab": {
     "base_uri": "https://localhost:8080/"
    },
    "id": "laLx8Zh-8_Kd",
    "outputId": "c2afd96e-d54d-4858-f3f3-240146c02cc8"
   },
   "outputs": [],
   "source": [
    "court_complexes = df.index\n",
    "for i in court_complexes:\n",
    "  df_complex = pd.DataFrame(df.loc[i]['processed']).T\n",
    "  if len(df_complex) == 0:\n",
    "    continue\n",
    "  df_complex = df_complex[df_complex['decision'] != \"don't know\"]\n",
    "  df_complex.dropna(subset=['segments'])"
   ]
  },
  {
   "cell_type": "code",
   "execution_count": null,
   "metadata": {
    "colab": {
     "base_uri": "https://localhost:8080/",
     "height": 793
    },
    "id": "MVdLea-lKnSz",
    "outputId": "7b1e2fbc-69aa-4e09-d64a-77546c085220"
   },
   "outputs": [],
   "source": [
    "c1.dropna(subset=['segments'])"
   ]
  },
  {
   "cell_type": "code",
   "execution_count": null,
   "metadata": {
    "colab": {
     "base_uri": "https://localhost:8080/",
     "height": 793
    },
    "id": "XFv_4Jzr9e5U",
    "outputId": "837e4da0-7e34-4e97-a292-5c747269bc14"
   },
   "outputs": [],
   "source": [
    "c1 = pd.DataFrame(df.loc[court_complexes[0]]['processed']).T\n",
    "c1 = c1[c1['decision'] != \"don't know\"]\n",
    "c1"
   ]
  },
  {
   "cell_type": "code",
   "execution_count": null,
   "metadata": {},
   "outputs": [],
   "source": [
    "district_wise_useful_counts = []"
   ]
  },
  {
   "cell_type": "code",
   "execution_count": null,
   "metadata": {
    "colab": {
     "base_uri": "https://localhost:8080/",
     "height": 32
    },
    "id": "8yiK4x-cMept",
    "outputId": "663e1792-0583-4bfe-ab35-0359d98c718c"
   },
   "outputs": [],
   "source": [
    "for district in tqdm(districts):\n",
    "  filename = file(district)\n",
    "  count = 0\n",
    "  df = pd.read_json(filename, orient = 'index')\n",
    "  court_complexes = df.index\n",
    "  for i in court_complexes:\n",
    "    df_complex = pd.DataFrame(df.loc[i]['processed']).T\n",
    "    if len(df_complex) == 0 or 'segments' not in df_complex:\n",
    "      continue\n",
    "    df_complex = df_complex[df_complex['decision'] != \"don't know\"]\n",
    "    if len(df_complex) == 0:\n",
    "      continue\n",
    "    df_complex = df_complex.dropna(subset=['segments'])\n",
    "    count += len(df_complex)\n",
    "  district_wise_useful_counts.append((district, count))"
   ]
  },
  {
   "cell_type": "code",
   "execution_count": null,
   "metadata": {},
   "outputs": [],
   "source": [
    "district_wise_useful_counts"
   ]
  },
  {
   "cell_type": "code",
   "execution_count": null,
   "metadata": {},
   "outputs": [],
   "source": [
    "import random"
   ]
  },
  {
   "cell_type": "code",
   "execution_count": null,
   "metadata": {},
   "outputs": [],
   "source": [
    "random.seed(42)\n",
    "random.shuffle(district_wise_useful_counts)"
   ]
  },
  {
   "cell_type": "code",
   "execution_count": null,
   "metadata": {},
   "outputs": [],
   "source": [
    "train_count = 123742\n",
    "test_count = 35400\n",
    "validation_count = 17707"
   ]
  },
  {
   "cell_type": "code",
   "execution_count": null,
   "metadata": {},
   "outputs": [],
   "source": [
    "train_districts = []\n",
    "test_districts = []\n",
    "validation_districts = []\n",
    "\n",
    "current_count = train_count\n",
    "current_ptr = train_districts\n",
    "for i in district_wise_useful_counts:\n",
    "    cnt = i[1]\n",
    "    current_count -= cnt\n",
    "    current_ptr.append(i)\n",
    "    if current_count < 500:\n",
    "        if current_ptr is train_districts:\n",
    "            current_count = test_count\n",
    "            current_ptr = test_districts\n",
    "        elif current_ptr is test_districts:\n",
    "            current_count = validation_count\n",
    "            current_ptr = validation_districts"
   ]
  },
  {
   "cell_type": "code",
   "execution_count": null,
   "metadata": {},
   "outputs": [],
   "source": [
    "len(train_districts), len(test_districts), len(validation_districts)"
   ]
  },
  {
   "cell_type": "code",
   "execution_count": null,
   "metadata": {},
   "outputs": [],
   "source": []
  },
  {
   "cell_type": "code",
   "execution_count": null,
   "metadata": {},
   "outputs": [],
   "source": [
    "validation_districts"
   ]
  },
  {
   "cell_type": "code",
   "execution_count": null,
   "metadata": {},
   "outputs": [],
   "source": [
    "global_training_complete_df = []\n",
    "for district in tqdm(validation_districts):\n",
    "  district = district[0]\n",
    "  filename = file(district)\n",
    "  df = pd.read_json(filename, orient = 'index')\n",
    "  court_complexes = df.index\n",
    "  district_df = pd.DataFrame()\n",
    "  for i in court_complexes:\n",
    "    df_complex = pd.DataFrame(df.loc[i]['processed']).T\n",
    "    if len(df_complex) == 0 or 'segments' not in df_complex:\n",
    "      continue\n",
    "    df_complex = df_complex[df_complex['decision'] != \"don't know\"]\n",
    "    if len(df_complex) == 0:\n",
    "      continue\n",
    "    df_complex = df_complex.dropna(subset=['segments'])\n",
    "    if len(df_complex)!=0:\n",
    "        df_complex['complex'] = i\n",
    "        district_df = pd.concat((district_df, df_complex))\n",
    "  district_df['district'] = district\n",
    "  global_training_complete_df.append(district_df)"
   ]
  },
  {
   "cell_type": "code",
   "execution_count": null,
   "metadata": {},
   "outputs": [],
   "source": [
    "global_training_complete_df = pd.concat(global_training_complete_df)"
   ]
  },
  {
   "cell_type": "code",
   "execution_count": null,
   "metadata": {},
   "outputs": [],
   "source": [
    "global_training_complete_df['case_number'] = global_training_complete_df.index"
   ]
  },
  {
   "cell_type": "code",
   "execution_count": null,
   "metadata": {},
   "outputs": [],
   "source": [
    "global_training_complete_df.reset_index(inplace=True)"
   ]
  },
  {
   "cell_type": "code",
   "execution_count": null,
   "metadata": {},
   "outputs": [],
   "source": [
    "global_training_complete_df.to_json(HOME_TT + \"/\" + \"combined_data/\" + 'validation_split_10_districts.json')"
   ]
  },
  {
   "cell_type": "code",
   "execution_count": null,
   "metadata": {},
   "outputs": [],
   "source": []
  },
  {
   "cell_type": "code",
   "execution_count": null,
   "metadata": {
    "id": "2oFcUa8Q876G"
   },
   "outputs": [],
   "source": [
    "global_training_complete_df = []\n",
    "global_testing_df = []\n",
    "global_validation_df = []"
   ]
  },
  {
   "cell_type": "code",
   "execution_count": null,
   "metadata": {
    "colab": {
     "base_uri": "https://localhost:8080/"
    },
    "id": "45DSDzIDDTtE",
    "outputId": "b8e12aa5-9d05-4a6d-b75b-24c1e3ba0e2c"
   },
   "outputs": [],
   "source": [
    "for district in tqdm(districts):\n",
    "  filename = file(district)\n",
    "  df = pd.read_json(filename, orient = 'index')\n",
    "  court_complexes = df.index\n",
    "  district_df = pd.DataFrame()\n",
    "  for i in court_complexes:\n",
    "    df_complex = pd.DataFrame(df.loc[i]['processed']).T\n",
    "    if len(df_complex) == 0 or 'segments' not in df_complex:\n",
    "      continue\n",
    "    df_complex = df_complex[df_complex['decision'] != \"don't know\"]\n",
    "    if len(df_complex) == 0:\n",
    "      continue\n",
    "    df_complex = df_complex.dropna(subset=['segments'])\n",
    "    if len(df_complex)!=0:\n",
    "        df_complex['complex'] = i\n",
    "        district_df = pd.concat((district_df, df_complex))\n",
    "\n",
    "\n",
    "  train, test = train_test_split(district_df, test_size=0.2, random_state = 42)\n",
    "  train, val = train_test_split(train, test_size=0.125, random_state = 42)\n",
    "  # print(train['decision'].describe())\n",
    "  # print(test['decision'].describe()) random split works no need to stratify as such.\n",
    "\n",
    "  base_target = HOME_TT + \"/\" + district + \"/\"\n",
    "  train.to_json( base_target + 'training_split.json' , orient = 'index')\n",
    "  val.to_json( base_target + 'validation_split.json' , orient = 'index')\n",
    "  test.to_json(  base_target + 'testing_split.json' , orient = 'index')\n",
    "  \n",
    "  train['district'] = district\n",
    "  val['district'] = district\n",
    "  test['district'] = district\n",
    "\n",
    "  global_training_complete_df.append(train)\n",
    "  global_testing_df.append(test)\n",
    "  global_validation_df.append(val)"
   ]
  },
  {
   "cell_type": "code",
   "execution_count": null,
   "metadata": {},
   "outputs": [],
   "source": [
    "global_training_complete_df = pd.concat(global_training_complete_df)\n",
    "global_testing_df = pd.concat(global_testing_df)\n",
    "global_validation_df = pd.concat(global_validation_df)"
   ]
  },
  {
   "cell_type": "code",
   "execution_count": null,
   "metadata": {},
   "outputs": [],
   "source": [
    "global_validation_df"
   ]
  },
  {
   "cell_type": "code",
   "execution_count": null,
   "metadata": {
    "id": "YMRwkBZgEEZb"
   },
   "outputs": [],
   "source": [
    "global_training_complete_df['case_number'] = global_training_complete_df.index\n",
    "global_testing_df['case_number'] = global_testing_df.index\n",
    "global_validation_df['case_number'] = global_validation_df.index"
   ]
  },
  {
   "cell_type": "code",
   "execution_count": null,
   "metadata": {
    "id": "5EnB3jKeB55d"
   },
   "outputs": [],
   "source": [
    "global_training_complete_df.reset_index(inplace=True)\n",
    "global_testing_df.reset_index(inplace=True)\n",
    "global_validation_df.reset_index(inplace=True)"
   ]
  },
  {
   "cell_type": "code",
   "execution_count": null,
   "metadata": {
    "id": "d00HerWUU5Ag"
   },
   "outputs": [],
   "source": [
    "global_testing_df.to_json(HOME_TT + \"/\" + \"combined_data/\" + 'test_split_alldistricts.json')\n",
    "global_validation_df.to_json(HOME_TT + \"/\" + \"combined_data/\" + 'val_split_alldistrict.json')\n",
    "global_training_complete_df.to_json(HOME_TT + \"/\" + \"combined_data/\" + 'train_split_alldistrict_bail.json')"
   ]
  },
  {
   "cell_type": "code",
   "execution_count": null,
   "metadata": {
    "colab": {
     "base_uri": "https://localhost:8080/"
    },
    "id": "atsnEcYhIVZG",
    "outputId": "e0be758d-c7c0-4908-9892-abdff3b2fb83"
   },
   "outputs": [],
   "source": [
    "global_training_complete_df['decision'].value_counts()"
   ]
  },
  {
   "cell_type": "code",
   "execution_count": null,
   "metadata": {
    "colab": {
     "base_uri": "https://localhost:8080/"
    },
    "id": "XHuJBC4LIn81",
    "outputId": "ba6d27b2-94e7-44b8-f42b-d06175607ad4"
   },
   "outputs": [],
   "source": [
    "global_testing_df['decision'].value_counts()"
   ]
  },
  {
   "cell_type": "code",
   "execution_count": null,
   "metadata": {
    "colab": {
     "base_uri": "https://localhost:8080/"
    },
    "id": "a4UMMk94VMV1",
    "outputId": "15e0c921-9601-4fc2-93e7-23d39dc7a027"
   },
   "outputs": [],
   "source": [
    "global_training_complete_df['district'].value_counts()"
   ]
  },
  {
   "cell_type": "code",
   "execution_count": null,
   "metadata": {
    "colab": {
     "base_uri": "https://localhost:8080/"
    },
    "id": "jPlYFRupEMOa",
    "outputId": "f9999e6c-67f9-4baa-ada6-fbf1029d45c2"
   },
   "outputs": [],
   "source": [
    "len(global_training_complete_df)"
   ]
  },
  {
   "cell_type": "code",
   "execution_count": null,
   "metadata": {
    "colab": {
     "base_uri": "https://localhost:8080/"
    },
    "id": "r9QW_23tESaJ",
    "outputId": "e1644d57-46a3-42b2-ac3f-9b2496f03823"
   },
   "outputs": [],
   "source": [
    "len(global_testing_df)"
   ]
  },
  {
   "cell_type": "code",
   "execution_count": null,
   "metadata": {
    "colab": {
     "base_uri": "https://localhost:8080/"
    },
    "id": "8t2k5f8REVlz",
    "outputId": "e944b065-c05e-4c27-b16a-6b8fd52052af"
   },
   "outputs": [],
   "source": [
    "len(global_validation_df)"
   ]
  },
  {
   "cell_type": "code",
   "execution_count": null,
   "metadata": {
    "colab": {
     "base_uri": "https://localhost:8080/"
    },
    "id": "0dA0DWpxEVxO",
    "outputId": "fe11195b-c388-4c66-91b5-2668ab2b612f"
   },
   "outputs": [],
   "source": [
    "len(global_training_reduced_df)"
   ]
  }
 ],
 "metadata": {
  "colab": {
   "name": "train_test_split_code.ipynb",
   "provenance": []
  },
  "kernelspec": {
   "display_name": "Python 3",
   "language": "python",
   "name": "python3"
  },
  "language_info": {
   "codemirror_mode": {
    "name": "ipython",
    "version": 3
   },
   "file_extension": ".py",
   "mimetype": "text/x-python",
   "name": "python",
   "nbconvert_exporter": "python",
   "pygments_lexer": "ipython3",
   "version": "3.8.5"
  }
 },
 "nbformat": 4,
 "nbformat_minor": 1
}
