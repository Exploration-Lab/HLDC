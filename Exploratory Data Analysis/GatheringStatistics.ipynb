{
 "cells": [
  {
   "cell_type": "code",
   "execution_count": null,
   "metadata": {
    "id": "qT1_bDIwNP-l"
   },
   "outputs": [],
   "source": [
    "from pathlib import Path\n",
    "import json\n",
    "import pandas as pd\n",
    "from sklearn.model_selection import train_test_split\n",
    "from os import path\n",
    "from tqdm import tqdm"
   ]
  },
  {
   "cell_type": "code",
   "execution_count": null,
   "metadata": {
    "id": "dmAP_XYzOzBY"
   },
   "outputs": [],
   "source": [
    "import glob"
   ]
  },
  {
   "cell_type": "code",
   "execution_count": null,
   "metadata": {
    "id": "GSrFUNw4NfFd"
   },
   "outputs": [],
   "source": [
    "districts = ['agra', 'aligarh', 'varanasi', 'lucknow', 'ghaziabad', 'ambedkar_nagar', 'bahraich', 'azamgarh',\n",
    "             'allahabad', 'balrampur', 'auraiya', 'barabanki', 'banda', 'bagpat', 'bhadohi', 'ballia', 'bijnor',\n",
    "             'basti', 'bareilly', 'bulandshahar', 'chitrakoot', 'deoria', 'budaun', 'etah', 'etawah', 'farrukhabad',\n",
    "             'faizabad', 'fatehpur', 'firozabad', 'gautam_buddha_nagar', 'ghazipur', 'hapur', 'gonda', 'hardoi',\n",
    "             'hamirpur_up', 'jaunpur', 'gorakhpur', 'jalaun', 'jyotiba_phule_nagar', 'jhansi', 'hathras', 'kanpur_dehat',\n",
    "             'kanpur_nagar', 'kannauj', 'kanshiramnagar', 'kheri', 'kaushambi', 'kushinagar', 'lalitpur', 'maharajganj',\n",
    "             'mainpuri', 'meerut', 'mahoba', 'mirzapur', 'mathura', 'moradabad', 'muzaffarnagar', 'pratapgarhdistrict', 'pilibhit',\n",
    "             'rampur', 'raebareli', 'mau', 'saharanpur', 'sant_kabir_nagar', 'shahjahanpur', 'shravasti', 'siddharthnagar', 'sitapur', 'unnao',\n",
    "             'sultanpur', 'sonbhadra']\n",
    "# districts = ['ghaziabad', 'agra', 'varanasi', 'aligarh', 'kanpurnagar', 'lucknow']\n",
    "assert len(districts) == 71\n",
    "def file(district):\n",
    "  return f\"../raw_pdfs/{district}/*\"\n",
    "  # complex_name = court_complexes[district]\n",
    "  # l = []\n",
    "  # for i in complex_name:\n",
    "  #   s = f\"../raw_pdfs/{district}/{i}/*.csv\"\n",
    "  #   l.append(s)\n",
    "  # return l"
   ]
  },
  {
   "cell_type": "code",
   "execution_count": null,
   "metadata": {
    "id": "UyBBC800PiEV"
   },
   "outputs": [],
   "source": [
    "court_complexes = {}\n",
    "def district_court_complexes(district):\n",
    "  complexes = glob.glob(file(district))\n",
    "  complexes = [complex.split(\"/\")[-1] for complex in complexes]\n",
    "  court_complexes[district] = complexes"
   ]
  },
  {
   "cell_type": "code",
   "execution_count": null,
   "metadata": {
    "id": "DLdPnp0yYbgO"
   },
   "outputs": [],
   "source": [
    "court_complexes"
   ]
  },
  {
   "cell_type": "code",
   "execution_count": null,
   "metadata": {
    "id": "YYBEgorykr6q"
   },
   "outputs": [],
   "source": [
    "district_wise_case_types = {}"
   ]
  },
  {
   "cell_type": "code",
   "execution_count": null,
   "metadata": {
    "id": "lIL1nR6_TBOQ"
   },
   "outputs": [],
   "source": [
    "total = 0\n",
    "def district_complexes_counts(district):\n",
    "  metadata_csvs = []\n",
    "  for i in file(district):\n",
    "    metadata_csvs.extend(glob.glob(i))\n",
    "  district_wise_case_types[district] = {}\n",
    "\n",
    "  for csv in metadata_csvs:\n",
    "    complex_ = csv.split(\"/\")[-2]\n",
    "    if complex_ not in district_wise_case_types[district]:\n",
    "      district_wise_case_types[district][complex_] = {}\n",
    "    df = pd.read_csv(csv)\n",
    "    # print(complex_)\n",
    "    for i in df['Case Type/Case Number/Case Year']:\n",
    "      # total += 1\n",
    "      vals = i.split(\"/\")\n",
    "      case_type = \"/\".join(vals[:-2])\n",
    "      case_type = case_type.lower()\n",
    "      year = vals[-1]\n",
    "      if (case_type, year) in district_wise_case_types[district][complex_]:\n",
    "        # print((case_type, year))\n",
    "        district_wise_case_types[district][complex_][(case_type, year)] += 1\n",
    "        # print(district_wise_case_types[district][complex_])\n",
    "      else:\n",
    "        # print((case_type, year))\n",
    "        district_wise_case_types[district][complex_][(case_type, year)] = 1\n",
    "      # district_wise_case_types[district][complex_][(case_type, year)] = district_wise_case_types[district][complex_].get((case_type, year), 0) + 1\n",
    "  # print(total)"
   ]
  },
  {
   "cell_type": "code",
   "execution_count": null,
   "metadata": {
    "id": "2X-KJQyfVW0I"
   },
   "outputs": [],
   "source": [
    "cnt = 0\n",
    "\n",
    "for i in court_complexes:\n",
    "  cnt += len(court_complexes[i])"
   ]
  },
  {
   "cell_type": "code",
   "execution_count": null,
   "metadata": {
    "id": "oOw1haN9JmxW"
   },
   "outputs": [],
   "source": [
    "cnt"
   ]
  },
  {
   "cell_type": "code",
   "execution_count": null,
   "metadata": {
    "id": "SWKhPkiZNfId"
   },
   "outputs": [],
   "source": [
    "from copy import deepcopy\n",
    "district_chunks = []\n",
    "# SET CHUNK SIZE\n",
    "chunk_size = 71\n",
    "len1, len2 = len(districts), 0\n",
    "for i in range(0, len(districts), chunk_size):\n",
    "  district_chunks.append(districts[i:min(len(districts), i + chunk_size)])\n",
    "  len2 += len(district_chunks[-1])\n",
    "  print(district_chunks[-1])\n",
    "assert len2 == len1"
   ]
  },
  {
   "cell_type": "code",
   "execution_count": null,
   "metadata": {
    "id": "H98OFCCXYHtI"
   },
   "outputs": [],
   "source": [
    "for i in tqdm(districts):\n",
    "  # print(i)\n",
    "  district_court_complexes(i)"
   ]
  },
  {
   "cell_type": "code",
   "execution_count": null,
   "metadata": {
    "id": "bdJDCFFSQAgV"
   },
   "outputs": [],
   "source": [
    "for i in tqdm(districts):\n",
    "  # print(i)\n",
    "  district_complexes_counts(i)"
   ]
  },
  {
   "cell_type": "code",
   "execution_count": null,
   "metadata": {
    "id": "-sQ0R40AHMaN"
   },
   "outputs": [],
   "source": [
    "district_wise_case_types"
   ]
  },
  {
   "cell_type": "code",
   "execution_count": null,
   "metadata": {
    "id": "EdjvfKQ3kgoa"
   },
   "outputs": [],
   "source": [
    "district_wise_case_types['ghaziabad']"
   ]
  },
  {
   "cell_type": "code",
   "execution_count": null,
   "metadata": {
    "id": "Mpx--8_mqJwL"
   },
   "outputs": [],
   "source": [
    "import re\n",
    "import string"
   ]
  },
  {
   "cell_type": "code",
   "execution_count": null,
   "metadata": {
    "id": "WmpWsgvwuw8z"
   },
   "outputs": [],
   "source": [
    "re.sub('rev$', \"revision\", 'civil rev ')"
   ]
  },
  {
   "cell_type": "code",
   "execution_count": null,
   "metadata": {
    "id": "5rUuyDrVqKxv"
   },
   "outputs": [],
   "source": [
    "regex = re.compile('[%s]' % re.escape(string.punctuation))\n",
    "def normalise(case_type):\n",
    "  case_type = regex.sub(\" \", case_type)\n",
    "  case_type = re.sub('\\d', \" \", case_type)\n",
    "  case_type = re.sub('xx+', \"\", case_type)\n",
    "  case_type = \" \".join(case_type.split())\n",
    "  case_type = re.sub('trail', \"trial\", case_type)\n",
    "  case_type = re.sub('reivision', \"revision\", case_type)\n",
    "  case_type = re.sub('motar', \"motor\", case_type)\n",
    "  case_type = re.sub('marrige', \"marriage\", case_type)\n",
    "  case_type = re.sub('cri ', \"criminal \", case_type)\n",
    "  case_type = re.sub('spl', \"special \", case_type)\n",
    "  case_type = re.sub('xoriginal ', \"original \", case_type)\n",
    "  case_type = re.sub('xmisc ', \"misc \", case_type)\n",
    "  case_type = re.sub('xcriminal ', \"criminal \", case_type)\n",
    "  case_type = re.sub('xcomplaint ', \"complaint \", case_type)\n",
    "  case_type = re.sub('execuition ', \"execution \", case_type)\n",
    "  case_type = re.sub('crl ', \"criminal \", case_type)\n",
    "  case_type = re.sub('civ ', \"civil \", case_type)\n",
    "  case_type = re.sub('rev$', \"revision\", case_type)\n",
    "  case_type = re.sub('revis$', \"revision\", case_type)\n",
    "  case_type = re.sub('panchayt', \"panchayat\", case_type)\n",
    "  case_type = re.sub('panch', \"panchayat\", case_type)\n",
    "  case_type = re.sub('cr ', \"criminal \", case_type)\n",
    "  case_type = re.sub('xexecution', \"execution\", case_type)\n",
    "  case_type = re.sub('apl', \"appeal\", case_type)\n",
    "  case_type = re.sub('app$', \"application\", case_type)\n",
    "  case_type = re.sub('summery', \"summary\", case_type)\n",
    "  case_type = re.sub('special\\s+t ', \"special trial\", case_type)\n",
    "  case_type = re.sub('moter', \"motor\", case_type)\n",
    "  case_type = re.sub('pet$', \"petition\", case_type)\n",
    "  case_type = re.sub('dom viol', \"domestic violence\", case_type)\n",
    "  # case_type = re.sub('summery', \"summary\", case_type)\n",
    "  # case_type = re.sub('special\\s+t ', \"special trial\", case_type)\n",
    "  # case_type = re.sub('moter', \"motor\", case_type)\n",
    "  # case_type = re.sub('pet$', \"petition\", case_type)\n",
    "  case_type = re.sub('old', \"\", case_type)\n",
    "\n",
    "  tmp = \"\".join(case_type.split())\n",
    "  case_type = \" \".join(case_type.split())\n",
    "  if tmp.startswith(\"bail\"):\n",
    "    return \"bail application\"\n",
    "  elif tmp.startswith('anticipatorybail'):\n",
    "    return 'anticipatory bail'\n",
    "  elif tmp.startswith('civil'):\n",
    "    return 'civil cases'\n",
    "  elif tmp.startswith('special'):\n",
    "    return 'special cases'\n",
    "  elif tmp.startswith('civilappeal'):\n",
    "    return 'civil appeal'\n",
    "  elif tmp.startswith('criminal'):\n",
    "    return 'criminal cases'\n",
    "  elif tmp.startswith('civilmisc') or tmp.startswith('misccivil'):\n",
    "    return 'civil misc'\n",
    "  elif tmp.startswith('warrantorsummonscri'):\n",
    "    return 'warrant or summons criminal case'\n",
    "  elif tmp.startswith('arb'):\n",
    "    return 'arbitration'\n",
    "  elif tmp.startswith('civilrevision'):\n",
    "    return 'civil revision'\n",
    "  elif tmp.startswith('motoraccidentclaim'):\n",
    "    return 'motar accident claim'\n",
    "  elif tmp.startswith('misccases'):\n",
    "    return 'misc cases'\n",
    "  elif tmp.startswith('misccriminal') or tmp.startswith(\"criminalmisc\"):\n",
    "    return 'misc criminal'\n",
    "  elif tmp.startswith('matrimonial'):\n",
    "    return 'matrimonial cases'\n",
    "  elif tmp.startswith('criminalappeal'):\n",
    "    return 'criminal appeal'\n",
    "  elif tmp.startswith('originalcivilsuit'):\n",
    "    return 'original civil suit'\n",
    "  elif tmp.startswith('regular'):\n",
    "    return 'regular suit'\n",
    "  elif tmp.startswith('rent'):\n",
    "    return 'rent case'\n",
    "  elif tmp.startswith('finalreport'):\n",
    "    return 'final report'\n",
    "  elif tmp.startswith('sessiontrial'):\n",
    "    return 'session trial'\n",
    "  elif tmp.startswith('specialtrial'):\n",
    "    return 'special trial'\n",
    "  elif tmp.startswith('transferapplication'):\n",
    "    return 'transfer application'\n",
    "  elif tmp.startswith('scc'):\n",
    "    return 'scc case'\n",
    "  elif tmp.startswith('ndps'):\n",
    "    return 'ndps case'\n",
    "  elif tmp.startswith('sst'):\n",
    "    return 'sst case'\n",
    "  elif tmp.startswith('comp'):\n",
    "    return 'complaint case'\n",
    "  elif tmp.startswith('execution'):\n",
    "    return 'execution case'\n",
    "  elif tmp.startswith('landacq'):\n",
    "    return 'land acquisition'\n",
    "  elif tmp.startswith('summon'):\n",
    "    return 'summon trial'\n",
    "  elif tmp.startswith('arms'):\n",
    "    return 'arms act'\n",
    "  elif tmp.startswith('original'):\n",
    "    return 'original suit'\n",
    "  elif tmp.startswith('gaurdian'):\n",
    "    return 'gaurdians and wards act'\n",
    "  elif tmp.startswith('panchayat'):\n",
    "    return 'panchayt revision'\n",
    "  elif tmp.startswith('specialcase'):\n",
    "    return 'special case'\n",
    "  elif tmp.startswith('specialcriminal'):\n",
    "    return 'special criminal'\n",
    "  elif tmp.startswith('motorvehicleact'):\n",
    "    return 'motor vehicle act'\n",
    "  elif tmp.startswith('smallcausecourt'):\n",
    "    return 'small cause court'\n",
    "  elif tmp.startswith('regmisc'):\n",
    "    return 'reg misc'\n",
    "  elif tmp.startswith('specialsessiont') or tmp.startswith('specialsessionst'):\n",
    "    return 'special session trials'\n",
    "  elif tmp.startswith('juvenile'):\n",
    "    return 'juvenile case'\n",
    "  elif tmp.startswith('session'):\n",
    "    return 'session trial'\n",
    "  elif tmp.startswith('caveat'):\n",
    "    return 'caveat application'\n",
    "  elif tmp.startswith('domestic'):\n",
    "    return 'domestic violence'\n",
    "  elif tmp.startswith('upub'):\n",
    "    return 'upub cases'\n",
    "  elif tmp.startswith('reg'):\n",
    "    return 'regular case'\n",
    "\n",
    "  return case_type"
   ]
  },
  {
   "cell_type": "code",
   "execution_count": null,
   "metadata": {
    "id": "zTRN1x9LiXNP"
   },
   "outputs": [],
   "source": [
    "overall_case_types = {}\n",
    "s = 0\n",
    "for i in district_wise_case_types:\n",
    "  \n",
    "  for j in district_wise_case_types[i]:\n",
    "    for k in district_wise_case_types[i][j]:\n",
    "      case_type = normalise(k[0])\n",
    "      overall_case_types[case_type] = overall_case_types.get(case_type, 0) + district_wise_case_types[i][j][k]\n",
    "      s += district_wise_case_types[i][j][k]\n",
    "  # print(i, s)"
   ]
  },
  {
   "cell_type": "code",
   "execution_count": null,
   "metadata": {
    "id": "LJY-O0X0UxqR"
   },
   "outputs": [],
   "source": [
    "overall_case_types"
   ]
  },
  {
   "cell_type": "code",
   "execution_count": null,
   "metadata": {
    "id": "EeaNy_JAUxs8"
   },
   "outputs": [],
   "source": [
    "c = 0\n",
    "for i in overall_case_types:\n",
    "  c += overall_case_types[i]\n",
    "\n",
    "print(c)"
   ]
  },
  {
   "cell_type": "code",
   "execution_count": null,
   "metadata": {
    "id": "GYq4YLpSj7Je"
   },
   "outputs": [],
   "source": [
    "len(overall_case_types)"
   ]
  },
  {
   "cell_type": "code",
   "execution_count": null,
   "metadata": {
    "id": "YRULZckViXTG"
   },
   "outputs": [],
   "source": [
    "vals = overall_case_types.items()"
   ]
  },
  {
   "cell_type": "code",
   "execution_count": null,
   "metadata": {
    "id": "EIn6K2HNdRbD"
   },
   "outputs": [],
   "source": [
    "sorted(list(vals), key = lambda x: x[1], reverse = True)"
   ]
  },
  {
   "cell_type": "code",
   "execution_count": null,
   "metadata": {
    "id": "6QX0zh-Cesvk"
   },
   "outputs": [],
   "source": [
    "district_bail = {}\n",
    "\n",
    "for i in district_wise_case_types:\n",
    "  s = 0\n",
    "  for j in district_wise_case_types[i]:\n",
    "    for k in district_wise_case_types[i][j]:\n",
    "      case_type = normalise(k[0])\n",
    "      if case_type == \"bail application\":\n",
    "        district_bail[i] = district_bail.get(i, 0) + district_wise_case_types[i][j][k]\n",
    "      # overall_case_types[case_type] = overall_case_types.get(case_type, 0) + district_wise_case_types[i][j][k]\n",
    "      s += district_wise_case_types[i][j][k]\n",
    "  # district_case[i] = s"
   ]
  },
  {
   "cell_type": "code",
   "execution_count": null,
   "metadata": {
    "id": "MgwR3KudVd6F"
   },
   "outputs": [],
   "source": [
    "district_bail"
   ]
  },
  {
   "cell_type": "code",
   "execution_count": null,
   "metadata": {
    "id": "_g19PYo7U71q"
   },
   "outputs": [],
   "source": [
    "import pandas as pd\n",
    "district_case = pd.DataFrame(district_case.items())\n",
    "district_case.columns = ['district', 'total_cases']"
   ]
  },
  {
   "cell_type": "code",
   "execution_count": null,
   "metadata": {
    "id": "8i5AJs4DWAa1"
   },
   "outputs": [],
   "source": [
    "district_case['ratio'] = district_case[['bail_cases', 'total_cases']].apply(lambda x: x[0]/x[1], axis=1)"
   ]
  },
  {
   "cell_type": "code",
   "execution_count": null,
   "metadata": {
    "id": "-85MwA31Vwol"
   },
   "outputs": [],
   "source": [
    "district_case['bail_cases'] = district_case['district'].apply(lambda x: district_bail[x])"
   ]
  },
  {
   "cell_type": "code",
   "execution_count": null,
   "metadata": {
    "id": "J0uns6e_es2E"
   },
   "outputs": [],
   "source": [
    "district_case.to_csv(\"case-dist-across-districts.csv\")"
   ]
  }
 ],
 "metadata": {
  "colab": {
   "collapsed_sections": [],
   "name": "GatheringStatistics.ipynb",
   "provenance": []
  },
  "kernelspec": {
   "display_name": "Python 3",
   "language": "python",
   "name": "python3"
  },
  "language_info": {
   "codemirror_mode": {
    "name": "ipython",
    "version": 3
   },
   "file_extension": ".py",
   "mimetype": "text/x-python",
   "name": "python",
   "nbconvert_exporter": "python",
   "pygments_lexer": "ipython3",
   "version": "3.9.2"
  }
 },
 "nbformat": 4,
 "nbformat_minor": 1
}
