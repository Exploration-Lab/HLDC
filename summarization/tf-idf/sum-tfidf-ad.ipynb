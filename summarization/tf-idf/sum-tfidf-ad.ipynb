{
 "cells": [
  {
   "cell_type": "code",
   "execution_count": null,
   "id": "b52f75c6-83b2-4b12-b9d1-6b7740e27420",
   "metadata": {},
   "outputs": [],
   "source": [
    "from tqdm.auto import tqdm\n",
    "import re\n",
    "import string"
   ]
  },
  {
   "cell_type": "code",
   "execution_count": null,
   "id": "70d8c714-fc23-489d-87d6-ff9d4c945312",
   "metadata": {},
   "outputs": [],
   "source": [
    "from sklearn.feature_extraction.text import TfidfVectorizer"
   ]
  },
  {
   "cell_type": "code",
   "execution_count": null,
   "id": "5ae4fdc6-1df1-40fc-b863-9ec9f4f0bc0f",
   "metadata": {},
   "outputs": [],
   "source": [
    "corpus = []\n",
    "vectoriser = TfidfVectorizer()"
   ]
  },
  {
   "cell_type": "code",
   "execution_count": null,
   "id": "5f03643f-9279-4c6f-a9a3-6ca9f47faeb9",
   "metadata": {},
   "outputs": [],
   "source": [
    "import json\n",
    "import pandas as pd\n",
    "def put_in_corpus(file):\n",
    "  global corpus\n",
    "  print(f\"Current file:{file}\")\n",
    "  with open(f\"/scratch/username/train_test_data_for_modelling/{file}\") as f:\n",
    "      data = json.load(f)\n",
    "  df = pd.DataFrame(data)\n",
    "  for i, row in tqdm(df.iterrows(),total=len(df)):\n",
    "      src_sents=[]\n",
    "      paras = df.loc[i][\"segments\"]['facts-and-arguments']\n",
    "      for para in paras:\n",
    "        sent = para.split('।')\n",
    "        sent = [i for i in sent if len(i)!=0 and i!=' ']\n",
    "        src_sents.extend(sent)\n",
    "      src_sents = list(filter(None, src_sents))\n",
    "      src_sents1=[]\n",
    "      for sent in src_sents:\n",
    "        try:\n",
    "          sent = ''.join([i for i in sent if not i.isdigit()])\n",
    "        except:\n",
    "          print(sent)\n",
    "        src_sents1.append(sent)\n",
    "      src_sents =src_sents1\n",
    "      corpus.extend(src_sents)"
   ]
  },
  {
   "cell_type": "code",
   "execution_count": null,
   "id": "aab65c74-087c-43db-85eb-d8e625acb4b4",
   "metadata": {},
   "outputs": [],
   "source": [
    "import os\n",
    "files = os.listdir(\"/scratch/username/train_test_data_for_modelling/\")"
   ]
  },
  {
   "cell_type": "code",
   "execution_count": null,
   "id": "259711d9-6f1a-4463-8360-ec6585d0c474",
   "metadata": {},
   "outputs": [],
   "source": [
    "try:\n",
    "    os.mkdir(\"/scratch/username/summaries_octtfidf2\")\n",
    "except:\n",
    "    pass"
   ]
  },
  {
   "cell_type": "code",
   "execution_count": null,
   "id": "884938f1-4090-4d7f-87c2-c4f98c23202c",
   "metadata": {},
   "outputs": [],
   "source": [
    "files = [f for f in files if \".json\" in f]"
   ]
  },
  {
   "cell_type": "code",
   "execution_count": null,
   "id": "be428ff1-c318-4739-baef-7f48318039d7",
   "metadata": {},
   "outputs": [],
   "source": [
    "files = [\"train_split_alldistrict_bail.json\"]\n",
    "for file in files:\n",
    "    put_in_corpus(file)"
   ]
  },
  {
   "cell_type": "code",
   "execution_count": null,
   "id": "0fca46dd-cf6a-4116-8e89-638794a711be",
   "metadata": {},
   "outputs": [],
   "source": [
    "from sklearn.feature_extraction.text import CountVectorizer, TfidfTransformer\n",
    "def tok(s):\n",
    "  return s.split()\n",
    "cv = CountVectorizer(tokenizer=tok)\n",
    "data2 = cv.fit_transform(corpus)\n",
    "tfidf_transformer = TfidfTransformer()\n",
    "tfidf_matrix = tfidf_transformer.fit_transform(data2)\n",
    "word2tfidf = dict(zip(cv.get_feature_names(), tfidf_transformer.idf_))"
   ]
  },
  {
   "cell_type": "code",
   "execution_count": null,
   "id": "a5c275f9-b34d-4791-8113-ea5051b1299e",
   "metadata": {},
   "outputs": [],
   "source": [
    "def get_score(sentence):\n",
    "  words = sentence.split()\n",
    "  score = 0\n",
    "  for word in words:\n",
    "    try:\n",
    "      score+= word2tfidf[word]\n",
    "    except:\n",
    "      pass\n",
    "  return score"
   ]
  },
  {
   "cell_type": "code",
   "execution_count": null,
   "id": "f9f4fd61-fff0-4b1a-bc57-eaa41124bffd",
   "metadata": {},
   "outputs": [],
   "source": [
    "def process(file):\n",
    "    print(f\"Current file:{file}\")\n",
    "    with open(f\"/scratch/username/train_test_data_for_modelling/{file}\") as f:\n",
    "        data = json.load(f)\n",
    "    df = pd.DataFrame(data)\n",
    "    ranked_sentences = []\n",
    "    for i, row in tqdm(df.iterrows(),total=len(df)):\n",
    "        src_sents = df.loc[i][\"segments\"]['facts-and-arguments']\n",
    "        src_sents = [i.split('।') for i in src_sents]\n",
    "        # split all paragraphs in individual sentences\n",
    "        src_sents = [i for subl in src_sents for i in subl]\n",
    "        src_sents = [i for i in src_sents if len(i)!=0 and i!=' ']\n",
    "        src_sents = list(filter(None, src_sents))\n",
    "        src_sents1=[]\n",
    "        for sent in src_sents:\n",
    "          try:\n",
    "            sent = ''.join([i for i in sent if not i.isdigit()])\n",
    "          except:\n",
    "            print(sent)\n",
    "          src_sents1.append(sent)\n",
    "        src_sents =src_sents1\n",
    "        sentences = src_sents\n",
    "        scores=[]\n",
    "        for sent in sentences:\n",
    "          scores.append(get_score(sent))\n",
    "        ranks = sorted(((scores[i],s) for i,s in enumerate(sentences)), reverse=True)\n",
    "        ranks = [i[1] for i in ranks]\n",
    "        ranked_sentences.append(ranks)\n",
    "    df = df.head(len(ranked_sentences))\n",
    "    df['ranked-sentences'] = [i[:10] for i in ranked_sentences]\n",
    "    df['ranked-sentences'].map(len)\n",
    "    file = file.replace(\".json\",\".csv\")\n",
    "    df.to_csv(f\"/scratch/username/summaries_octtfidf2/{file}\")"
   ]
  },
  {
   "cell_type": "code",
   "execution_count": null,
   "id": "54ed6a49-5a7a-4abc-b305-7d1c7548d22b",
   "metadata": {},
   "outputs": [],
   "source": [
    "files = [\"train_split_alldistrict_bail.json\",\"test_split_alldistricts.json\",\"val_split_alldistrict.json\"]\n",
    "for file in files:\n",
    "  process(file)"
   ]
  },
  {
   "cell_type": "code",
   "execution_count": null,
   "id": "8c023ba4-c65d-414a-b8a9-dbf5e199b5e8",
   "metadata": {},
   "outputs": [],
   "source": []
  }
 ],
 "metadata": {
  "kernelspec": {
   "display_name": "Python 3 (ipykernel)",
   "language": "python",
   "name": "python3"
  },
  "language_info": {
   "codemirror_mode": {
    "name": "ipython",
    "version": 3
   },
   "file_extension": ".py",
   "mimetype": "text/x-python",
   "name": "python",
   "nbconvert_exporter": "python",
   "pygments_lexer": "ipython3",
   "version": "3.7.0"
  }
 },
 "nbformat": 4,
 "nbformat_minor": 5
}
