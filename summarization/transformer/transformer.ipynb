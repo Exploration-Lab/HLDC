{
 "cells": [
  {
   "cell_type": "code",
   "execution_count": null,
   "id": "bea0ea6d-1221-47b6-910c-6ceac3be15d7",
   "metadata": {},
   "outputs": [],
   "source": [
    "import os\n",
    "import json\n",
    "import tqdm\n",
    "import numpy as np\n",
    "import pandas as pd\n",
    "from sentence_transformers import SentenceTransformer, util\n",
    "model = SentenceTransformer('sentence-transformers/paraphrase-multilingual-mpnet-base-v2')"
   ]
  },
  {
   "cell_type": "code",
   "execution_count": null,
   "id": "0f2d00d6-9ff6-407f-9e39-ecb9be158d0c",
   "metadata": {},
   "outputs": [],
   "source": [
    "def process(file):\n",
    "    print(f\"Current file:{file}\")\n",
    "    with open(f\"/scratch/username/train_test_data_for_modelling/{file}\") as f:\n",
    "        data = json.load(f)\n",
    "    df = pd.DataFrame(data)\n",
    "    #df = df.head(50)\n",
    "    ranked_sentences = []\n",
    "    for i, row in tqdm.notebook.tqdm(df.iterrows(),total=len(df)):\n",
    "        src_sents=[]\n",
    "        paras = df.loc[i][\"segments\"]['facts-and-arguments']\n",
    "        for para in paras:\n",
    "            sent = para.split('।')\n",
    "            sent = [i for i in sent if len(i)!=0 and i!=' ']\n",
    "            src_sents.extend(sent)\n",
    "        s1=src_sents\n",
    "        s2 = [\" \".join(df.loc[i][\"segments\"]['judge-opinion'])]\n",
    "        e1 = model.encode(s1)\n",
    "        e2 = model.encode(s2)\n",
    "        cos_sim = util.cos_sim(e2, e1)\n",
    "        s1 = np.asarray(s1)\n",
    "        ranks=s1[np.argsort(-1*cos_sim[0].numpy())]\n",
    "        ranked_sentences.append(ranks.tolist())\n",
    "    df = df.head(len(ranked_sentences))\n",
    "    df['ranked-sentences'] = ranked_sentences\n",
    "    df['ranked-sentences'].map(len)\n",
    "    file = file.replace(\".json\",\".csv\")\n",
    "    df.to_csv(f\"/scratch/username/saliency_summaries/{file}\")"
   ]
  },
  {
   "cell_type": "code",
   "execution_count": null,
   "id": "b3c9d35c-a36d-4e33-b7a1-9145f832e0ec",
   "metadata": {},
   "outputs": [],
   "source": [
    "files = os.listdir(\"/scratch/username/train_test_data_for_modelling/\")"
   ]
  },
  {
   "cell_type": "code",
   "execution_count": null,
   "id": "e4c18390-4a09-4264-8e9a-55fdb213093d",
   "metadata": {},
   "outputs": [],
   "source": [
    "try:\n",
    "    os.mkdir(\"/scratch/username/saliency_summaries\")\n",
    "except:\n",
    "    pass"
   ]
  },
  {
   "cell_type": "code",
   "execution_count": null,
   "id": "f3ac7f2c-0d20-4369-b24a-4dfbabff5593",
   "metadata": {},
   "outputs": [],
   "source": [
    "files = [f for f in files if \".json\" in f]"
   ]
  },
  {
   "cell_type": "code",
   "execution_count": null,
   "id": "5a3f985f-ac1c-4c2e-97b8-04d3ae41a305",
   "metadata": {},
   "outputs": [],
   "source": [
    "for file in files:\n",
    "    process(file)"
   ]
  },
  {
   "cell_type": "code",
   "execution_count": null,
   "id": "9565171f-a1ab-4d67-8b80-1efe09f3aa29",
   "metadata": {},
   "outputs": [],
   "source": []
  }
 ],
 "metadata": {
  "kernelspec": {
   "display_name": "Python 3 (ipykernel)",
   "language": "python",
   "name": "python3"
  },
  "language_info": {
   "codemirror_mode": {
    "name": "ipython",
    "version": 3
   },
   "file_extension": ".py",
   "mimetype": "text/x-python",
   "name": "python",
   "nbconvert_exporter": "python",
   "pygments_lexer": "ipython3",
   "version": "3.7.0"
  }
 },
 "nbformat": 4,
 "nbformat_minor": 5
}
